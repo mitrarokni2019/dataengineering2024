{
 "cells": [
  {
   "cell_type": "code",
   "execution_count": 1,
   "id": "8256faf5-5d41-4db4-9e54-33a5c175b004",
   "metadata": {},
   "outputs": [
    {
     "name": "stderr",
     "output_type": "stream",
     "text": [
      "Setting default log level to \"WARN\".\n",
      "To adjust logging level use sc.setLogLevel(newLevel). For SparkR, use setLogLevel(newLevel).\n",
      "24/02/21 21:53:45 WARN NativeCodeLoader: Unable to load native-hadoop library for your platform... using builtin-java classes where applicable\n"
     ]
    }
   ],
   "source": [
    "import pyspark\n",
    "from pyspark import SparkConf, SparkContext\n",
    "from pyspark.sql import SparkSession, SQLContext\n",
    "from pyspark.sql.types import *\n",
    "from pyspark.sql.functions import *\n",
    "from operator import add\n",
    "\n",
    "spark_session = SparkSession\\\n",
    "        .builder\\\n",
    "        .master(\"spark://192.168.2.250:7077\") \\\n",
    "        .appName(\"MitraRokni_Section_A\")\\\n",
    "        .config(\"spark.dynamicAllocation.enabled\", False)\\\n",
    "        .config(\"spark.cores.max\", 4)\\\n",
    "        .config(\"spark.dynamicAllocation.shuffleTracking.enabled\",True)\\\n",
    "        .config(\"spark.shuffle.service.enabled\", False)\\\n",
    "        .config(\"spark.dynamicAllocation.executorIdleTimeout\",\"30s\")\\\n",
    "        .config(\"spark.executor.cores\",4)\\\n",
    "        .config(\"spark.cores.min\", 1)\\\n",
    "        .config(\"spark.driver.port\",9999)\\\n",
    "        .config(\"spark.blockManager.port\",10005)\\\n",
    "        .getOrCreate()\n",
    "# Old API (RDD)\n",
    "spark_context = spark_session.sparkContext\n",
    "spark_context.setLogLevel(\"ERROR\")"
   ]
  },
  {
   "cell_type": "markdown",
   "id": "99146a7c-5078-4afb-b345-f164f0ed9594",
   "metadata": {},
   "source": [
    "Question A.1 \n",
    "In this assignment I am using the English to Finnish text books."
   ]
  },
  {
   "cell_type": "code",
   "execution_count": 2,
   "id": "3738a7df-c6d9-4a5d-aa00-777d4dbe4f40",
   "metadata": {},
   "outputs": [
    {
     "name": "stderr",
     "output_type": "stream",
     "text": [
      "[Stage 0:===================>                                       (1 + 2) / 3]\r"
     ]
    },
    {
     "name": "stdout",
     "output_type": "stream",
     "text": [
      "Number of lines in English version of book is:  1924942\n"
     ]
    },
    {
     "name": "stderr",
     "output_type": "stream",
     "text": [
      "                                                                                \r"
     ]
    }
   ],
   "source": [
    "# A.1 Loading English transcripts from HDFS counting the number of lines from English language from HDFS:\n",
    "English_text= spark_session.sparkContext.textFile(\"hdfs://192.168.2.250:9000/europarl/europarl-v7.fi-en.en\") # English version\n",
    "\n",
    "# Counting the number of lines in the English book and the Swedish book\n",
    "Number_Of_Line_In_English = English_text.count()\n",
    "print(\"Number of lines in English version of book is: \",Number_Of_Line_In_English)"
   ]
  },
  {
   "cell_type": "code",
   "execution_count": 3,
   "id": "02b2a8e6-7173-45c7-8fe4-b8fa43c0b82e",
   "metadata": {},
   "outputs": [
    {
     "name": "stderr",
     "output_type": "stream",
     "text": [
      "[Stage 1:===================>                                       (1 + 2) / 3]\r"
     ]
    },
    {
     "name": "stdout",
     "output_type": "stream",
     "text": [
      "Number of lines in Finnish version of book is:  1924942\n"
     ]
    },
    {
     "name": "stderr",
     "output_type": "stream",
     "text": [
      "                                                                                \r"
     ]
    }
   ],
   "source": [
    "# A.2 Loading Finnish transcripts from HDFS counting the number of lines from Finnish language from HDFS:\n",
    "Finnish_text= spark_session.sparkContext.textFile(\"hdfs://192.168.2.250:9000/europarl/europarl-v7.fi-en.fi\") # Finnish version\n",
    "\n",
    "# Counting the number of lines in the English book and the Swedish book\n",
    "Number_Of_Line_In_Finnish = Finnish_text.count()\n",
    "print(\"Number of lines in Finnish version of book is: \",Number_Of_Line_In_Finnish)\n"
   ]
  },
  {
   "cell_type": "code",
   "execution_count": 4,
   "id": "552ec620-1067-4132-abd9-aee576689bb0",
   "metadata": {},
   "outputs": [
    {
     "name": "stdout",
     "output_type": "stream",
     "text": [
      "['Resumption of the session', 'I declare resumed the session of the European Parliament adjourned on Friday 17 December 1999, and I would like once again to wish you a happy new year in the hope that you enjoyed a pleasant festive period.', \"Although, as you will have seen, the dreaded 'millennium bug' failed to materialise, still the people in a number of countries suffered a series of natural disasters that truly were dreadful.\", 'You have requested a debate on this subject in the course of the next few days, during this part-session.', \"In the meantime, I should like to observe a minute' s silence, as a number of Members have requested, on behalf of all the victims concerned, particularly those of the terrible storms, in the various countries of the European Union.\"]\n"
     ]
    },
    {
     "name": "stderr",
     "output_type": "stream",
     "text": [
      "                                                                                \r"
     ]
    }
   ],
   "source": [
    "print(English_text.take(5))"
   ]
  },
  {
   "cell_type": "code",
   "execution_count": 5,
   "id": "75019a41-ad52-45f2-8060-9e0560f6b779",
   "metadata": {},
   "outputs": [
    {
     "name": "stderr",
     "output_type": "stream",
     "text": [
      "[Stage 3:>                                                          (0 + 1) / 1]\r"
     ]
    },
    {
     "name": "stdout",
     "output_type": "stream",
     "text": [
      "['Istuntokauden uudelleenavaaminen', 'Julistan perjantaina joulukuun 17. päivänä keskeytetyn Euroopan parlamentin istunnon avatuksi ja esitän vielä kerran vilpittömän toiveeni siitä, että teillä olisi ollut oikein mukava joululoma.', 'Kuten olette varmaan saattaneet huomata, vuodenvaihteeseen 2000 povattuja suuria tietokoneongelmia ei ilmennytkään. Sen sijaan todella kauheat luonnonkatastrofit koettelivat kansalaisia joissakin unionimme maissa.', 'Te olette esittäneet toiveen, että tästä asiasta keskusteltaisiin lähipäivinä tämän istuntojakson aikana.', 'Sillä välin toivoisin, kuten useampi kollega on minulle esittänytkin, että viettäisimme minuutin hiljaisuuden kaikkien niiden uhrien muistoksi, jotka saivat surmansa useita Euroopan unionin maita koetelleissa myrskyissä.']\n"
     ]
    },
    {
     "name": "stderr",
     "output_type": "stream",
     "text": [
      "                                                                                \r"
     ]
    }
   ],
   "source": [
    "print(Finnish_text.take(5))"
   ]
  },
  {
   "cell_type": "code",
   "execution_count": 6,
   "id": "512f1d16-a72b-4748-95c1-fb79b14731ca",
   "metadata": {},
   "outputs": [
    {
     "name": "stdout",
     "output_type": "stream",
     "text": [
      "Are the line counts the same for the two languages?\n",
      "Answer is >> YES. The line counts are the same for the two languages\n"
     ]
    }
   ],
   "source": [
    "# A.1.3 Verify that the line counts are the same for the two languages\n",
    "print(\"Are the line counts the same for the two languages?\")\n",
    "if Number_Of_Line_In_English == Number_Of_Line_In_Finnish:\n",
    "    print(\"Answer is >> YES. The line counts are the same for the two languages\")\n",
    "else:\n",
    "    print(\"Answer is >> NO!The line counts are not the same for the two languages. \\nIn English book there is: \", Number_Of_Line_In_English ,\" Lines\",\" \\nIn Swedish book there is \",  Number_Of_Line_In_Swedish , \"lines.\")"
   ]
  },
  {
   "cell_type": "code",
   "execution_count": 7,
   "id": "98164889-a94a-48b4-9b2c-ddc835dc0610",
   "metadata": {},
   "outputs": [
    {
     "name": "stdout",
     "output_type": "stream",
     "text": [
      "3\n",
      "3\n"
     ]
    }
   ],
   "source": [
    "# A.1.4 Count the number of partitions \n",
    "print(English_text.getNumPartitions())# number of partition for English\n",
    "print(Finnish_text.getNumPartitions())# number of partition for Finnish"
   ]
  },
  {
   "cell_type": "markdown",
   "id": "826a8a11-a06f-4c9c-bba8-141c43282c08",
   "metadata": {},
   "source": [
    "Question A.2 >> Pre-processing"
   ]
  },
  {
   "cell_type": "code",
   "execution_count": 8,
   "id": "b5765f17-51da-4e11-806b-e4c734c99b83",
   "metadata": {},
   "outputs": [],
   "source": [
    "# A.2.1 part1 defining the function \n",
    "def Preprocessing_The_Text(line):\n",
    "    \"\"\"\n",
    "    Pre-process the text from both RDDs: by doing the following:\n",
    "            Lowercase the text\n",
    "            Tokenize the text by space \" \" \n",
    "    \"\"\"\n",
    "    return line.lower().split(\" \")\n"
   ]
  },
  {
   "cell_type": "code",
   "execution_count": 9,
   "id": "cf3d6c2c-8a5b-4ef6-8eee-32d8ea6f0bcf",
   "metadata": {},
   "outputs": [],
   "source": [
    "# A.2.1  Continuing part 1 ............................ \n",
    "\n",
    "preprocessed_english = English_text.map(Preprocessing_The_Text) # Apply preprocessing to the English text RDD\n",
    "\n",
    "preprocessed_finnish = Finnish_text.map(Preprocessing_The_Text) # Apply preprocessing to the Finnish text RDD\n"
   ]
  },
  {
   "cell_type": "code",
   "execution_count": 10,
   "id": "67388193-44bd-4106-94c7-2741aa2a07b7",
   "metadata": {},
   "outputs": [
    {
     "name": "stderr",
     "output_type": "stream",
     "text": [
      "                                                                                \r"
     ]
    },
    {
     "name": "stdout",
     "output_type": "stream",
     "text": [
      "[['resumption', 'of', 'the', 'session'], ['i', 'declare', 'resumed', 'the', 'session', 'of', 'the', 'european', 'parliament', 'adjourned', 'on', 'friday', '17', 'december', '1999,', 'and', 'i', 'would', 'like', 'once', 'again', 'to', 'wish', 'you', 'a', 'happy', 'new', 'year', 'in', 'the', 'hope', 'that', 'you', 'enjoyed', 'a', 'pleasant', 'festive', 'period.'], ['although,', 'as', 'you', 'will', 'have', 'seen,', 'the', 'dreaded', \"'millennium\", \"bug'\", 'failed', 'to', 'materialise,', 'still', 'the', 'people', 'in', 'a', 'number', 'of', 'countries', 'suffered', 'a', 'series', 'of', 'natural', 'disasters', 'that', 'truly', 'were', 'dreadful.'], ['you', 'have', 'requested', 'a', 'debate', 'on', 'this', 'subject', 'in', 'the', 'course', 'of', 'the', 'next', 'few', 'days,', 'during', 'this', 'part-session.'], ['in', 'the', 'meantime,', 'i', 'should', 'like', 'to', 'observe', 'a', \"minute'\", 's', 'silence,', 'as', 'a', 'number', 'of', 'members', 'have', 'requested,', 'on', 'behalf', 'of', 'all', 'the', 'victims', 'concerned,', 'particularly', 'those', 'of', 'the', 'terrible', 'storms,', 'in', 'the', 'various', 'countries', 'of', 'the', 'european', 'union.'], ['please', 'rise,', 'then,', 'for', 'this', \"minute'\", 's', 'silence.'], ['(the', 'house', 'rose', 'and', 'observed', 'a', \"minute'\", 's', 'silence)'], ['madam', 'president,', 'on', 'a', 'point', 'of', 'order.'], ['you', 'will', 'be', 'aware', 'from', 'the', 'press', 'and', 'television', 'that', 'there', 'have', 'been', 'a', 'number', 'of', 'bomb', 'explosions', 'and', 'killings', 'in', 'sri', 'lanka.'], ['one', 'of', 'the', 'people', 'assassinated', 'very', 'recently', 'in', 'sri', 'lanka', 'was', 'mr', 'kumar', 'ponnambalam,', 'who', 'had', 'visited', 'the', 'european', 'parliament', 'just', 'a', 'few', 'months', 'ago.']]\n"
     ]
    },
    {
     "name": "stderr",
     "output_type": "stream",
     "text": [
      "[Stage 5:>                                                          (0 + 1) / 1]\r"
     ]
    },
    {
     "name": "stdout",
     "output_type": "stream",
     "text": [
      "[['istuntokauden', 'uudelleenavaaminen'], ['julistan', 'perjantaina', 'joulukuun', '17.', 'päivänä', 'keskeytetyn', 'euroopan', 'parlamentin', 'istunnon', 'avatuksi', 'ja', 'esitän', 'vielä', 'kerran', 'vilpittömän', 'toiveeni', 'siitä,', 'että', 'teillä', 'olisi', 'ollut', 'oikein', 'mukava', 'joululoma.'], ['kuten', 'olette', 'varmaan', 'saattaneet', 'huomata,', 'vuodenvaihteeseen', '2000', 'povattuja', 'suuria', 'tietokoneongelmia', 'ei', 'ilmennytkään.', 'sen', 'sijaan', 'todella', 'kauheat', 'luonnonkatastrofit', 'koettelivat', 'kansalaisia', 'joissakin', 'unionimme', 'maissa.'], ['te', 'olette', 'esittäneet', 'toiveen,', 'että', 'tästä', 'asiasta', 'keskusteltaisiin', 'lähipäivinä', 'tämän', 'istuntojakson', 'aikana.'], ['sillä', 'välin', 'toivoisin,', 'kuten', 'useampi', 'kollega', 'on', 'minulle', 'esittänytkin,', 'että', 'viettäisimme', 'minuutin', 'hiljaisuuden', 'kaikkien', 'niiden', 'uhrien', 'muistoksi,', 'jotka', 'saivat', 'surmansa', 'useita', 'euroopan', 'unionin', 'maita', 'koetelleissa', 'myrskyissä.'], ['kehotan,', 'että', 'nousette', 'seisomaan', 'tämän', 'minuutin', 'hiljaisuuden', 'ajaksi'], ['(parlamentti', 'vietti', 'seisaallaan', 'minuutin', 'hiljaisuuden.)'], ['arvoisa', 'puhemies,', 'käytän', 'työjärjestyspuheenvuoron.'], ['olette', 'varmaan', 'saaneet', 'tietoonne', 'lehdistön', 'ja', 'television', 'kautta,', 'että', 'sri', 'lankassa', 'on', 'sattunut', 'useita', 'kuolemaan', 'johtaneita', 'pommi-iskuja.'], ['näiden', 'sri', 'lankassa', 'aivan', 'äskettäin', 'surmansa', 'saaneiden', 'ihmisten', 'joukossa', 'on', 'kumar', 'ponnambalam,', 'joka', 'vieraili', 'parlamentissa', 'vain', 'pari', 'kuukautta', 'sitten.']]\n"
     ]
    },
    {
     "name": "stderr",
     "output_type": "stream",
     "text": [
      "                                                                                \r"
     ]
    }
   ],
   "source": [
    "# A.2.3 Inspect 10 entries from each of your RDDs to verify your pre-processing\n",
    "print(preprocessed_english.take(10))\n",
    "print(preprocessed_finnish.take(10))"
   ]
  },
  {
   "cell_type": "code",
   "execution_count": 11,
   "id": "48793fac-721a-4a8c-bd88-f6cc93380077",
   "metadata": {},
   "outputs": [
    {
     "data": {
      "text/plain": [
       "\"\\ndef Conversion_Function(rdd):\\n    lowercase_rdd = rdd.map(lambda x: x.lower().split(' '))\\n    return lowercase_rdd\\n\""
      ]
     },
     "execution_count": 11,
     "metadata": {},
     "output_type": "execute_result"
    }
   ],
   "source": [
    "# Second Solution to A.2.1 > part1 defining the function \n",
    "'''\n",
    "def Conversion_Function(rdd):\n",
    "    lowercase_rdd = rdd.map(lambda x: x.lower().split(' '))\n",
    "    return lowercase_rdd\n",
    "'''\n"
   ]
  },
  {
   "cell_type": "code",
   "execution_count": 12,
   "id": "a9373c82-8dc5-4b16-b920-2f75db130b8f",
   "metadata": {},
   "outputs": [
    {
     "data": {
      "text/plain": [
       "'\\nEnglish_Text_prep = Conversion_Function(English_text)\\nFinnish_text_Prep = Conversion_Function(Finnish_text)\\n'"
      ]
     },
     "execution_count": 12,
     "metadata": {},
     "output_type": "execute_result"
    }
   ],
   "source": [
    "# Second Solution to A.2.1 > part1 mapping function on both languages texts\n",
    "'''\n",
    "English_Text_prep = Conversion_Function(English_text)\n",
    "Finnish_text_Prep = Conversion_Function(Finnish_text)\n",
    "'''\n"
   ]
  },
  {
   "cell_type": "code",
   "execution_count": 13,
   "id": "418506fa-0ba6-49f0-900a-d751b9421444",
   "metadata": {},
   "outputs": [
    {
     "data": {
      "text/plain": [
       "'\\n#  Inspect 10 entries from each of your RDDs to verify your pre-processing\\nprint(English_Text_prep.take(10))\\nprint(Finnish_text_Prep.take(10))\\n'"
      ]
     },
     "execution_count": 13,
     "metadata": {},
     "output_type": "execute_result"
    }
   ],
   "source": [
    "# Second Solution to A.2.2 > part2 Inspection 10 entities\n",
    "'''\n",
    "#  Inspect 10 entries from each of your RDDs to verify your pre-processing\n",
    "print(English_Text_prep.take(10))\n",
    "print(Finnish_text_Prep.take(10))\n",
    "'''"
   ]
  },
  {
   "cell_type": "code",
   "execution_count": 14,
   "id": "053eb9e2-830f-4ce7-9f19-c62e194be20b",
   "metadata": {},
   "outputs": [
    {
     "name": "stderr",
     "output_type": "stream",
     "text": [
      "[Stage 7:===================>                                       (1 + 2) / 3]\r"
     ]
    },
    {
     "name": "stdout",
     "output_type": "stream",
     "text": [
      "\n",
      "Do the line counts still match after the pre-processing?\n",
      "Answer is >> YES. The line counts in both languages still match after the pre-processing\n",
      "\n",
      "Line count in preprocessed English RDD: 1924942\n",
      "Line count in preprocessed Finnish RDD: 1924942\n"
     ]
    },
    {
     "name": "stderr",
     "output_type": "stream",
     "text": [
      "                                                                                \r"
     ]
    }
   ],
   "source": [
    "# A.2.3\n",
    "\n",
    "line_count2_En= preprocessed_english.count()\n",
    "line_count2_Finn= preprocessed_finnish.count()\n",
    "\n",
    "# Verify that the line counts still match after the pre-processing \n",
    "print(\"\\nDo the line counts still match after the pre-processing?\")\n",
    "if line_count2_En == line_count2_Finn:\n",
    "    print(\"Answer is >> YES. The line counts in both languages still match after the pre-processing\")\n",
    "else:\n",
    "    print(\"Answer is >> NO! The line counts in both languages DO NOT match after the pre-processing. \\nIn English book there is: \", line_count2_En ,\" Lines\",\" \\nIn Swedish book there is \", line_count2_Finn, \"lines.\")\n",
    "\n",
    "print(\"\\nLine count in preprocessed English RDD:\", line_count2_En)\n",
    "print(\"Line count in preprocessed Finnish RDD:\", line_count2_Finn)"
   ]
  },
  {
   "cell_type": "markdown",
   "id": "7a389f8f-3390-4b62-b1ad-c9f1dce6328f",
   "metadata": {},
   "source": [
    "Question A.3"
   ]
  },
  {
   "cell_type": "code",
   "execution_count": 15,
   "id": "9387c5e0-e2e4-474e-95dc-3b93862e61c2",
   "metadata": {},
   "outputs": [
    {
     "name": "stderr",
     "output_type": "stream",
     "text": [
      "                                                                                \r"
     ]
    },
    {
     "name": "stdout",
     "output_type": "stream",
     "text": [
      "Top 10 words in English corpus:\n",
      "the: 3631787\n",
      "of: 1724191\n",
      "to: 1600135\n",
      "and: 1339069\n",
      "in: 1127219\n",
      "that: 830095\n",
      "a: 803908\n",
      "is: 785410\n",
      "for: 553730\n",
      "we: 548086\n",
      "\n",
      "####################################################################################################\n",
      "\n"
     ]
    },
    {
     "name": "stderr",
     "output_type": "stream",
     "text": [
      "[Stage 10:======================================>                   (2 + 1) / 3]\r"
     ]
    },
    {
     "name": "stdout",
     "output_type": "stream",
     "text": [
      "Top 10 words in Finnish corpus:\n",
      "ja: 1249156\n",
      "on: 1035956\n",
      "että: 619655\n",
      "euroopan: 257568\n",
      "ei: 246268\n",
      "myös: 178765\n",
      "ovat: 161869\n",
      "se: 152857\n",
      "arvoisa: 149439\n",
      "ole: 134745\n"
     ]
    },
    {
     "name": "stderr",
     "output_type": "stream",
     "text": [
      "                                                                                \r"
     ]
    }
   ],
   "source": [
    "# A.3.1 Compute the 10 most frequently\n",
    "# I am using  preprocessed_english and preprocessed_finnish as RDDs of lists of words \n",
    "# FlatMap to break down the lists into individual words, then map each to (word, 1)\n",
    "mapper_english = preprocessed_english.flatMap(lambda x: x)\\\n",
    "                .map(lambda w: (w, 1))\\\n",
    "                .reduceByKey(add)\n",
    "\n",
    "# Compute the top 10 most frequently occurring words in the English corpus\n",
    "top_ten_english = mapper_english.takeOrdered(10, key=lambda x: -x[1])\n",
    "\n",
    "# Print the top 10 most frequently occurring words in the English corpus\n",
    "print(\"Top 10 words in English corpus:\")\n",
    "for word, count in top_ten_english:\n",
    "    print(f\"{word}: {count}\")\n",
    "###################################################################################################################\n",
    "# Add a separator for clarity\n",
    "print(\"\\n\" + \"#\" * 100 + \"\\n\")\n",
    "####################################################################################################################\n",
    "# Repeat the process for the Finnish text\n",
    "mapper_finnish = preprocessed_finnish.flatMap(lambda x: x)\\\n",
    "                .map(lambda w: (w, 1))\\\n",
    "                .reduceByKey(add)\n",
    "\n",
    "# Compute the top 10 most frequently occurring words in the Finnish corpus\n",
    "top_ten_finnish = mapper_finnish.takeOrdered(10, key=lambda x: -x[1])\n",
    "\n",
    "# Print the top 10 most frequently occurring words in the Finnish corpus\n",
    "print(\"Top 10 words in Finnish corpus:\")\n",
    "for word, count in top_ten_finnish:\n",
    "    print(f\"{word}: {count}\")\n",
    "\n"
   ]
  },
  {
   "cell_type": "markdown",
   "id": "a5bb9998-6ed1-4e04-b6d3-f0cd69b310bf",
   "metadata": {},
   "source": [
    "A.3.2 Verify that your results are reasonable. \n",
    ">\n",
    "It is entirely reasonable because these words, known as stopwords, are the most common and frequent in every language, particularly in English. Therefore, for more advanced and specialized analysis, data analysts eliminate these words and symbols during the preprocessing steps."
   ]
  },
  {
   "cell_type": "markdown",
   "id": "4d6f3fd4-f4b9-4228-a902-3e68db95cf0f",
   "metadata": {},
   "source": [
    "Question A.4\n",
    "This Question contains 9 steps: "
   ]
  },
  {
   "cell_type": "code",
   "execution_count": 16,
   "id": "5c4cf968-83b0-4a68-8171-a25001bc85f9",
   "metadata": {},
   "outputs": [
    {
     "name": "stderr",
     "output_type": "stream",
     "text": [
      "                                                                                \r"
     ]
    },
    {
     "name": "stdout",
     "output_type": "stream",
     "text": [
      "[(0, ['resumption', 'of', 'the', 'session']), (1, ['i', 'declare', 'resumed', 'the', 'session', 'of', 'the', 'european', 'parliament', 'adjourned', 'on', 'friday', '17', 'december', '1999,', 'and', 'i', 'would', 'like', 'once', 'again', 'to', 'wish', 'you', 'a', 'happy', 'new', 'year', 'in', 'the', 'hope', 'that', 'you', 'enjoyed', 'a', 'pleasant', 'festive', 'period.']), (2, ['although,', 'as', 'you', 'will', 'have', 'seen,', 'the', 'dreaded', \"'millennium\", \"bug'\", 'failed', 'to', 'materialise,', 'still', 'the', 'people', 'in', 'a', 'number', 'of', 'countries', 'suffered', 'a', 'series', 'of', 'natural', 'disasters', 'that', 'truly', 'were', 'dreadful.']), (3, ['you', 'have', 'requested', 'a', 'debate', 'on', 'this', 'subject', 'in', 'the', 'course', 'of', 'the', 'next', 'few', 'days,', 'during', 'this', 'part-session.']), (4, ['in', 'the', 'meantime,', 'i', 'should', 'like', 'to', 'observe', 'a', \"minute'\", 's', 'silence,', 'as', 'a', 'number', 'of', 'members', 'have', 'requested,', 'on', 'behalf', 'of', 'all', 'the', 'victims', 'concerned,', 'particularly', 'those', 'of', 'the', 'terrible', 'storms,', 'in', 'the', 'various', 'countries', 'of', 'the', 'european', 'union.']), (5, ['please', 'rise,', 'then,', 'for', 'this', \"minute'\", 's', 'silence.']), (6, ['(the', 'house', 'rose', 'and', 'observed', 'a', \"minute'\", 's', 'silence)']), (7, ['madam', 'president,', 'on', 'a', 'point', 'of', 'order.']), (8, ['you', 'will', 'be', 'aware', 'from', 'the', 'press', 'and', 'television', 'that', 'there', 'have', 'been', 'a', 'number', 'of', 'bomb', 'explosions', 'and', 'killings', 'in', 'sri', 'lanka.']), (9, ['one', 'of', 'the', 'people', 'assassinated', 'very', 'recently', 'in', 'sri', 'lanka', 'was', 'mr', 'kumar', 'ponnambalam,', 'who', 'had', 'visited', 'the', 'european', 'parliament', 'just', 'a', 'few', 'months', 'ago.'])]\n"
     ]
    },
    {
     "name": "stderr",
     "output_type": "stream",
     "text": [
      "[Stage 15:>                                                         (0 + 1) / 1]\r"
     ]
    },
    {
     "name": "stdout",
     "output_type": "stream",
     "text": [
      "[(0, ['istuntokauden', 'uudelleenavaaminen']), (1, ['julistan', 'perjantaina', 'joulukuun', '17.', 'päivänä', 'keskeytetyn', 'euroopan', 'parlamentin', 'istunnon', 'avatuksi', 'ja', 'esitän', 'vielä', 'kerran', 'vilpittömän', 'toiveeni', 'siitä,', 'että', 'teillä', 'olisi', 'ollut', 'oikein', 'mukava', 'joululoma.']), (2, ['kuten', 'olette', 'varmaan', 'saattaneet', 'huomata,', 'vuodenvaihteeseen', '2000', 'povattuja', 'suuria', 'tietokoneongelmia', 'ei', 'ilmennytkään.', 'sen', 'sijaan', 'todella', 'kauheat', 'luonnonkatastrofit', 'koettelivat', 'kansalaisia', 'joissakin', 'unionimme', 'maissa.']), (3, ['te', 'olette', 'esittäneet', 'toiveen,', 'että', 'tästä', 'asiasta', 'keskusteltaisiin', 'lähipäivinä', 'tämän', 'istuntojakson', 'aikana.']), (4, ['sillä', 'välin', 'toivoisin,', 'kuten', 'useampi', 'kollega', 'on', 'minulle', 'esittänytkin,', 'että', 'viettäisimme', 'minuutin', 'hiljaisuuden', 'kaikkien', 'niiden', 'uhrien', 'muistoksi,', 'jotka', 'saivat', 'surmansa', 'useita', 'euroopan', 'unionin', 'maita', 'koetelleissa', 'myrskyissä.']), (5, ['kehotan,', 'että', 'nousette', 'seisomaan', 'tämän', 'minuutin', 'hiljaisuuden', 'ajaksi']), (6, ['(parlamentti', 'vietti', 'seisaallaan', 'minuutin', 'hiljaisuuden.)']), (7, ['arvoisa', 'puhemies,', 'käytän', 'työjärjestyspuheenvuoron.']), (8, ['olette', 'varmaan', 'saaneet', 'tietoonne', 'lehdistön', 'ja', 'television', 'kautta,', 'että', 'sri', 'lankassa', 'on', 'sattunut', 'useita', 'kuolemaan', 'johtaneita', 'pommi-iskuja.']), (9, ['näiden', 'sri', 'lankassa', 'aivan', 'äskettäin', 'surmansa', 'saaneiden', 'ihmisten', 'joukossa', 'on', 'kumar', 'ponnambalam,', 'joka', 'vieraili', 'parlamentissa', 'vain', 'pari', 'kuukautta', 'sitten.'])]\n"
     ]
    },
    {
     "name": "stderr",
     "output_type": "stream",
     "text": [
      "                                                                                \r"
     ]
    }
   ],
   "source": [
    "# Step 1&2 > Indexing lines and Swapping the Key and Values.\n",
    "english_indexed = preprocessed_english.zipWithIndex().map(lambda x: (x[1], x[0]))\n",
    "print(english_indexed.take(10))\n",
    "finnish_indexed = preprocessed_finnish.zipWithIndex().map(lambda x: (x[1], x[0]))\n",
    "print(finnish_indexed.take(10))\n"
   ]
  },
  {
   "cell_type": "code",
   "execution_count": 17,
   "id": "6102904d-451d-467f-96b6-121c1e329e2a",
   "metadata": {},
   "outputs": [
    {
     "name": "stderr",
     "output_type": "stream",
     "text": [
      "                                                                                \r"
     ]
    },
    {
     "name": "stdout",
     "output_type": "stream",
     "text": [
      "[(30, (['we', 'know,', 'and', 'we', 'have', 'stated', 'as', 'much', 'in', 'very', 'many', 'resolutions', 'indeed,', 'including', 'specifically', 'during', 'the', 'last', 'plenary', 'part-session', 'of', 'last', 'year,', 'that', 'this', 'is', 'not', 'solely', 'a', 'legal', 'case', 'and', 'that', 'it', 'is', 'wrong', 'for', 'alexander', 'nikitin', 'to', 'be', 'accused', 'of', 'criminal', 'activity', 'and', 'treason', 'because', 'of', 'our', 'involvement', 'as', 'the', 'beneficiaries', 'of', 'his', 'findings.'], ['me', 'tiedämme', 'ja', 'olemme', 'todenneet', 'sen', 'todellakin', 'erittäin', 'monissa', 'päätöslauselmissa', '-', 'nimenomaan', 'viime', 'vuoden', 'viimeisessä', 'täysistunnossa', '-,', 'että', 'tämä', 'ei', 'ole', 'pelkästään', 'oikeustapaus', 'ja', 'on', 'väärin', 'syyttää', 'aleksandr', 'nikitiniä', 'rikollisuudesta', 'ja', 'petoksesta,', 'koska', 'me', 'asianosaisina', 'hyödymme', 'hänen', 'tuloksistaan.']))]\n"
     ]
    },
    {
     "name": "stderr",
     "output_type": "stream",
     "text": [
      "[Stage 19:======================================>                   (4 + 2) / 6]\r"
     ]
    },
    {
     "name": "stdout",
     "output_type": "stream",
     "text": [
      "\n",
      "\n",
      "count of line join is :  1924942\n"
     ]
    },
    {
     "name": "stderr",
     "output_type": "stream",
     "text": [
      "                                                                                \r"
     ]
    }
   ],
   "source": [
    "# Step 3 > Join the English RDD and Finnish RDD Together\n",
    "lines_joined = english_indexed.join(finnish_indexed)\n",
    "print(lines_joined.take(1))\n",
    "print(\"\\n\\ncount of line join is : \", lines_joined.count())"
   ]
  },
  {
   "cell_type": "code",
   "execution_count": 18,
   "id": "a76e82d2-5ffb-4f57-a358-d3000e6abc4a",
   "metadata": {
    "scrolled": true
   },
   "outputs": [
    {
     "name": "stderr",
     "output_type": "stream",
     "text": [
      "                                                                                \r"
     ]
    },
    {
     "name": "stdout",
     "output_type": "stream",
     "text": [
      "1918494\n"
     ]
    },
    {
     "name": "stderr",
     "output_type": "stream",
     "text": [
      "[Stage 23:>                                                         (0 + 1) / 1]\r"
     ]
    },
    {
     "name": "stdout",
     "output_type": "stream",
     "text": [
      "[(918, (['once', 'the', 'committee', 'on', 'economic', 'and', 'monetary', 'affairs', 'has', 'adopted', 'the', 'draft', 'report', 'unanimously', 'with', 'two', 'abstentions,', 'i', 'would', 'ask', 'that', 'we', 'make', 'full', 'use', 'of', 'this', 'opportunity,', 'which', 'we', 'have', 'ourselves', 'created,', 'in', 'plenary', 'sitting.'], ['koska', 'talous-', 'ja', 'raha-asioiden', 'valiokunta', 'hyväksyi', 'mietintöluonnoksen', 'yksimielisesti', 'kahden', 'äänestäessä', 'tyhjää,', 'pyydän,', 'että', 'panemme', 'täysistunnossa', 'täydellisesti', 'täytäntöön', 'tämän', 'päätöksen,', 'jonka', 'olemme', 'itse', 'täällä', 'esittäneet.'])), (1458, (['we', 'have', 'received', 'many', 'excellent', 'observations', 'and', 'contributions', 'which', 'give', 'us', 'the', 'material', 'to', 'make', 'a', 'cost-benefit', 'assessment', 'for', 'business.'], ['olemme', 'saaneet', 'monia', 'erinomaisia', 'kommentteja', 'ja', 'mielipiteitä,', 'joista', 'saamme', 'aineistoa', 'yrityksille', 'laadittavaan', 'kustannus-hyötyarvioon.'])), (9072, (['the', 'third', 'and', 'fourth', 'worlds', 'have', 'been', 'abandoned:', 'just', 'one', 'dollar,', 'one', 'and', 'a', 'half', 'euro', 'would', 'be', 'enough', 'to', 'save', 'a', 'great', 'many', 'children.'], ['kolmas', 'ja', 'neljäs', 'maailma', 'on', 'jätetty', 'heitteille:', 'monen', 'lapsen', 'pelastamiseen', 'riittäisi', 'yksi', 'dollari,', 'puolitoista', 'euroa.'])), (9240, (['precise', 'application', 'of', 'this', 'principle', 'can', 'only', 'reinforce', 'the', 'actions', 'taken', 'and', 'give', 'our', 'citizens', 'a', 'clear', 'view', 'of', 'each', 'level', 'of', 'competence.'], ['tämän', 'periaatteen', 'selkeä', 'soveltaminen', 'voi', 'vain', 'vahvistaa', 'toteutettavia', 'toimia', 'ja', 'antaa', 'kansalaisille', 'selkeän', 'kuvan', 'jokaisesta', 'toimivallan', 'tasosta.'])), (15174, (['firstly,', 'when', 'i', 'came', 'to', 'this', 'parliament', 'many', 'years', 'ago', 'i', 'was', 'told', 'that', 'if', 'you', 'had', 'a', 'difficult', 'job', 'you', 'gave', 'it', 'to', 'a', 'liberal.'], ['sanoisin', 'ensinnäkin,', 'että', 'kun', 'tulin', 'monta', 'vuotta', 'sitten', 'parlamenttiin,', 'minulle', 'sanottiin,', 'että', 'jos', 'teillä', 'on', 'vaikea', 'työ,', 'antakaa', 'se', 'liberalistille.']))]\n"
     ]
    },
    {
     "name": "stderr",
     "output_type": "stream",
     "text": [
      "                                                                                \r"
     ]
    }
   ],
   "source": [
    "# Srep 4> Filter to exclude line pairs that have an empty/missing “corresponding” sentence.\n",
    "Step_4= lines_joined.filter(lambda x: (x[1][0][0] != '' and x[1][1][0]!= ''))\n",
    "print (Step_4.count())\n",
    "print (Step_4.take(5))"
   ]
  },
  {
   "cell_type": "code",
   "execution_count": 19,
   "id": "bef7f288-6d0d-4b21-8ec5-d093dcc535e0",
   "metadata": {},
   "outputs": [
    {
     "name": "stderr",
     "output_type": "stream",
     "text": [
      "                                                                                \r"
     ]
    },
    {
     "name": "stdout",
     "output_type": "stream",
     "text": [
      " Number of Pairs of Sentences with less than 5 Words are:72700\n"
     ]
    },
    {
     "name": "stderr",
     "output_type": "stream",
     "text": [
      "[Stage 27:>                                                         (0 + 1) / 1]\r"
     ]
    },
    {
     "name": "stdout",
     "output_type": "stream",
     "text": [
      "[(790806, (['\\xa0\\xa0', '.'], ['\\xa0\\xa0', '.'])), (36636, (['first', 'part'], ['ensimmäinen', 'osa'])), (36702, (['question', 'no', '33', 'by', '(h-0298/00):'], ['kysymys', 'nro', '33', '(h-0298/00):'])), (94476, (['.'], ['.'])), (101118, (['we', 'are', 'to', 'burn', 'it.'], ['poltamme', 'sen.'])), (107676, (['.'], ['.'])), (115464, (['we', 'voted', 'against', 'this', 'paragraph.'], ['äänestimme', 'tätä', 'kohtaa', 'vastaan.'])), (134778, (['(parliament', 'adopted', 'the', 'resolution)'], ['(parlamentti', 'hyväksyi', 'päätöslauselman.)'])), (159048, (['.'], ['.'])), (181482, (['question', 'no', '17', 'by', '(h-0626/01):'], ['kysymys', 'nro', '17', '(h-0626/01):']))]\n"
     ]
    },
    {
     "name": "stderr",
     "output_type": "stream",
     "text": [
      "                                                                                \r"
     ]
    }
   ],
   "source": [
    "# Step 5> Filter to Leave Only Pairs of Sentences with a Small Number of Words\n",
    "\n",
    "X = 5  # I also tried with x=10 , but i think the 5 is a better trashold\n",
    "Step_5= Step_4.filter(lambda x: len(x[1][0]) <= X and len(x[1][1]) <= X)\n",
    "print(f\" Number of Pairs of Sentences with less than {X} Words are:{Step_5.count()}\")\n",
    "print(Step_5.take(10))"
   ]
  },
  {
   "cell_type": "code",
   "execution_count": 20,
   "id": "1a902a28-1e80-4274-92c6-098dd3cc9af4",
   "metadata": {},
   "outputs": [
    {
     "name": "stderr",
     "output_type": "stream",
     "text": [
      "                                                                                \r"
     ]
    },
    {
     "name": "stdout",
     "output_type": "stream",
     "text": [
      "33820\n"
     ]
    },
    {
     "name": "stderr",
     "output_type": "stream",
     "text": [
      "[Stage 31:>                                                         (0 + 1) / 1]\r"
     ]
    },
    {
     "name": "stdout",
     "output_type": "stream",
     "text": [
      "[(266640, (['individual', 'producer', 'responsibility.'], ['tuottajien', 'erillinen', 'vastuu.'])), (365946, (['i', 'have', 'never', 'believed', 'that.'], ['sellaiseen', 'en', 'ole', 'koskaan', 'uskonut.'])), (429822, (['it', 'must', 'stop.'], ['sen', 'on', 'loputtava.'])), (825828, (['(applause)'], ['(suosionosoituksia)'])), (644442, (['\\xa0\\xa0', '.'], ['\\xa0\\xa0', '.'])), (5514, (['.'], ['.'])), (53904, (['we', 'also', 'need', 'other', 'things.'], ['me', 'tarvitsemme', 'myös', 'muita', 'asioita.'])), (121386, (['secondly:', 'the', 'distribution', 'of', 'work.'], ['toinen', 'kysymys', 'on', 'työn', 'jakautuminen.'])), (162138, (['report', 'brok', '(a5-0209/2001)'], ['brokin', 'mietintö', '(a5-0209/2001)'])), (178020, (['we', 'need', 'far', 'greater', 'clarity.'], ['kaipaamme', 'entistä', 'paljon', 'suurempaa', 'selkeyttä.'])), (188652, (['(interruption', 'by', 'mr', 'schultz)'], ['(jäsen', 'schultz', 'keskeytti', 'puhujan.)'])), (202392, (['such', 'conditions', 'affect', 'us', 'all.'], ['tällaiset', 'olot', 'vaikuttavat', 'meihin', 'kaikkiin.'])), (206262, (['general', 'budget', 'for', '2002'], ['yleinen', 'talousarvio', 'varainhoitovuodeksi', '2002'])), (229320, (['many', 'thanks!'], ['lämpimät', 'kiitokset!'])), (243666, (['this', 'parliament', 'is', 'merely', 'consulted.'], ['parlamenttia', 'ainoastaan', 'kuullaan', 'tässä', 'asiassa.'])), (367068, (['.'], ['.'])), (481260, (['that', 'is', 'absolutely', 'fundamental.'], ['tämä', 'on', 'todella', 'välttämätöntä.'])), (564618, (['\\xa0\\xa0', '.'], ['\\xa0\\xa0', '.'])), (611322, (['mr', 'barroso', 'echoed', 'those', 'statements.'], ['puheenjohtaja', 'barroso', 'toisti', 'tämän', 'lausunnon.'])), (612486, (['\\xa0\\xa0', '.'], ['\\xa0\\xa0', '.'])), (613698, (['\\xa0\\xa0', '.'], ['\\xa0\\xa0', '.'])), (653862, (['\\xa0\\xa0', '.'], ['\\xa0\\xa0', '.'])), (668208, (['\\xa0\\xa0', '.'], ['\\xa0\\xa0', '.'])), (669768, (['\\xa0\\xa0', '.'], ['\\xa0\\xa0', '.'])), (678114, (['i', 'feel', 'this', 'is', 'unjustified.'], ['mielestäni', 'se', 'ei', 'ole', 'perusteltua.'])), (693972, (['\\xa0\\xa0', '.'], ['\\xa0\\xa0', '.'])), (734460, (['\\xa0\\xa0', '.'], ['\\xa0\\xa0', '.'])), (751398, (['\\xa0\\xa0', '.'], ['\\xa0\\xa0', '.'])), (768504, (['\\xa0\\xa0', '.'], ['\\xa0\\xa0', '.'])), (793380, (['\\xa0\\xa0', '.'], ['\\xa0\\xa0', '.'])), (799482, (['\\xa0\\xa0', '.'], ['\\xa0\\xa0', '.'])), (857862, (['(applause)'], ['(suosionosoituksia)'])), (859566, (['5.'], ['5.'])), (873204, (['2.'], ['2.'])), (186780, (['thank', 'you', 'very', 'much,', 'commissioner.'], ['paljon', 'kiitoksia,', 'arvoisa', 'komission', 'jäsen.'])), (194484, (['langenhagen', 'report', '(a5-0288/2001)'], ['langenhagen', 'mietintö', '(a5-0288/2001)'])), (307980, (['this', 'hypocrisy', 'must', 'stop.'], ['tällaisen', 'tekopyhyyden', 'on', 'loputtava.'])), (400728, (['.'], ['.'])), (418440, (['.'], ['.'])), (515994, (['\\xa0\\xa0', '.'], ['\\xa0\\xa0', '.'])), (605826, (['yesterday’s', 'ecofin', 'discussions', 'were', 'inconclusive.'], ['eiliset', 'ecofin-keskustelut', 'eivät', 'johtaneet', 'mihinkään.'])), (672012, (['\\xa0\\xa0', '.'], ['\\xa0\\xa0', '.'])), (794424, (['\\xa0\\xa0', '.'], ['\\xa0\\xa0', '.'])), (883650, (['8.'], ['8.'])), (267750, (['certainly', 'we', 'can', 'be', 'cautious.'], ['kyllä,', 'tietenkin', 'voimme', 'olla', 'varovaisia.'])), (356994, (['part', 'i'], ['osa', 'i'])), (965886, (['(loud', 'applause)'], ['(voimakkaita', 'suosionosoituksia)'])), (972894, (['3.', '('], ['3.', '('])), (1235466, (['documents', 'received:', 'see', 'minutes'], ['vastaanotetut', 'asiakirjat:', 'ks.', 'pöytäkirja'])), (1332396, (['(applause)'], ['(suosionosoituksia)']))]\n"
     ]
    },
    {
     "name": "stderr",
     "output_type": "stream",
     "text": [
      "                                                                                \r"
     ]
    }
   ],
   "source": [
    "# Step 6 > Only pairs of sentences with an equal number of words in each sentence.\n",
    "# Assuming Filtering_Small_Sentences is your RDD after filtering for small sentences\n",
    "Step_6 = Step_5.filter(lambda x: len(x[1][0]) == len(x[1][1]))\n",
    "\n",
    "# Now, print the count and take 10 examples from sentences_with_equal_num_of_words\n",
    "print(Step_6.count())\n",
    "print(Step_6.take(50))\n"
   ]
  },
  {
   "cell_type": "code",
   "execution_count": 21,
   "id": "f1eb40f8-c854-4116-8c6d-7984c2009bae",
   "metadata": {},
   "outputs": [
    {
     "name": "stderr",
     "output_type": "stream",
     "text": [
      "[Stage 33:>                                                         (0 + 1) / 1]\r"
     ]
    },
    {
     "name": "stdout",
     "output_type": "stream",
     "text": [
      "[('(applause)', '(suosionosoituksia)'), ('subject:', 'aihe:'), ('diabetes', 'diabetes'), ('madam', 'arvoisa'), ('president,', 'puhemies,'), ('my', 'pyydän'), ('apologies.', 'anteeksi.'), ('why?', 'miksi?'), ('i', 'minä'), ('endorse', 'kannatan')]\n"
     ]
    },
    {
     "name": "stderr",
     "output_type": "stream",
     "text": [
      "                                                                                \r"
     ]
    }
   ],
   "source": [
    "# step 7 > For each sentence pair,map so that you pair each(inorder)word in the two sentences.We no longer need the line numbers.(hint:usepython’sbuiltinzip()function)\n",
    "\n",
    "pair_words =Step_6.map(lambda x: (x[1][0],x[1][1]))\n",
    "mapper = pair_words.flatMap(lambda x: list(zip(x[0],x[1])))\n",
    "print (mapper.take(10))\n"
   ]
  },
  {
   "cell_type": "code",
   "execution_count": 24,
   "id": "d554098b-c24f-415b-9670-98b825d6a318",
   "metadata": {},
   "outputs": [
    {
     "name": "stderr",
     "output_type": "stream",
     "text": [
      "[Stage 41:======================================>                   (4 + 2) / 6]\r"
     ]
    },
    {
     "name": "stdout",
     "output_type": "stream",
     "text": [
      "[(('(applause)', '(suosionosoituksia)'), 2803), (('occur.', 'tapahtumaan.'), 1), (('.', '.'), 6973), (('spectrum', '/'), 1), (('is', 'merkitsee'), 2), (('real', 'todellista'), 5), (('progress.', 'edistystä.'), 15), (('attracts', 'synnyttää'), 1), (('words.', 'sanoja.'), 7), (('not', 'heittää'), 1)]\n"
     ]
    },
    {
     "name": "stderr",
     "output_type": "stream",
     "text": [
      "                                                                                \r"
     ]
    }
   ],
   "source": [
    "# Step 8 > Use reduce to count the number of occurrences of the word-translation-pairs.\n",
    "\n",
    "# Count occurrences of each word pair\n",
    "Reducer = mapper.map(lambda pair: (pair, 1)).reduceByKey(add)\n",
    "print (Reducer.take(10))\n"
   ]
  },
  {
   "cell_type": "code",
   "execution_count": 25,
   "id": "bb4736fd-dacb-4d90-acaa-ab9a60256fb8",
   "metadata": {},
   "outputs": [
    {
     "name": "stdout",
     "output_type": "stream",
     "text": [
      "Most frequently occurring word pairs:\n",
      "('.', '.') 6973\n",
      "('\\xa0\\xa0', '\\xa0\\xa0') 5085\n",
      "('is', 'on') 3045\n",
      "('(applause)', '(suosionosoituksia)') 2803\n",
      "('report', 'mietintö') 1061\n",
      "('closed.', 'päättynyt.') 844\n",
      "('debate', 'keskustelu') 813\n",
      "('this', 'tämä') 700\n",
      "('that', 'se') 558\n",
      "('that', 'tämä') 537\n",
      "('is', 'ei') 524\n",
      "('it', 'se') 499\n",
      "('applause', 'suosionosoituksia') 444\n",
      "('1.', '1.') 428\n",
      "('2.', '2.') 423\n",
      "('-', '-') 406\n",
      "('not', 'ole') 403\n",
      "('3.', '3.') 393\n",
      "('are', 'ovat') 375\n",
      "('and', 'ja') 358\n",
      "('minutes', 'pöytäkirja') 356\n",
      "('thank', 'paljon') 353\n",
      "('see', 'ks.') 353\n",
      "('why?', 'miksi?') 340\n",
      "('must', 'on') 337\n",
      "('written', 'kirjalliset') 284\n",
      "('we', 'meidän') 281\n",
      "('applause)', 'suosionosoituksia)') 278\n",
      "('what', 'mitä') 260\n",
      "('4.', '4.') 243\n",
      "('this', 'se') 237\n",
      "('142)', 'artikla)') 226\n",
      "('received:', 'asiakirjat:') 225\n",
      "('documents', 'vastaanotetut') 225\n",
      "('we', 'me') 221\n",
      "('has', 'on') 218\n",
      "('(rule', '(142') 212\n",
      "('5.', '5.') 201\n",
      "('important.', 'tärkeää.') 192\n",
      "('you,', 'kiitoksia,') 190\n",
      "('statements', 'kannanotot') 185\n",
      "('have', 'on') 183\n",
      "('(loud', '(voimakkaita') 177\n",
      "('6.', '6.') 176\n",
      "('very', 'hyvin') 172\n",
      "('the', '(en)') 169\n",
      "('7.', '7.') 164\n",
      "('welcome', 'tervetulotoivotukset') 164\n",
      "('these', 'nämä') 164\n",
      "('commissioner.', 'jäsen.') 160\n"
     ]
    }
   ],
   "source": [
    "# Step 9 > Print some of the most frequently occurring pairs of words.\n",
    "Most_Freq_Words = Reducer.takeOrdered(50, key=lambda x: -x[1])\n",
    "\n",
    "# Print the results\n",
    "print(\"Most frequently occurring word pairs:\")\n",
    "for pair, count in Most_Freq_Words:\n",
    "    print(pair, count)\n"
   ]
  },
  {
   "cell_type": "markdown",
   "id": "f718cd49-4dca-430f-853c-f1ed6051d68f",
   "metadata": {},
   "source": [
    "The translations seem reasonable for the most part, especially for straightforward word pairs like ('report', 'mietintö') and ('debate', 'keskustelu'), which align well with dictionary translations. However, some pairs, like ('is', 'ei'), highlight potential inaccuracies likely due to the simplistic method of assuming direct word order correspondence. This suggests that a more nuanced approach, perhaps involving better preprocessing to remove stopwords, punctuation, and special characters like '\\xa0\\xa0', would significantly improve the analysis. By refining the preprocessing steps after steps 5 or 6, we could minimize the inclusion of less meaningful content, thereby focusing on more significant word pairs for translation. Such improvements would likely yield a more accurate reflection of frequent and important word translations, enhancing our understanding of the language pair involve"
   ]
  },
  {
   "cell_type": "code",
   "execution_count": 26,
   "id": "91b6cb64-e1f3-4712-bd64-339c33639e0b",
   "metadata": {},
   "outputs": [],
   "source": [
    "spark_session.stop()"
   ]
  },
  {
   "cell_type": "code",
   "execution_count": null,
   "id": "d9a7ed39-8458-4b36-b04d-77e3b03ca309",
   "metadata": {},
   "outputs": [],
   "source": []
  }
 ],
 "metadata": {
  "kernelspec": {
   "display_name": "Python 3 (ipykernel)",
   "language": "python",
   "name": "python3"
  },
  "language_info": {
   "codemirror_mode": {
    "name": "ipython",
    "version": 3
   },
   "file_extension": ".py",
   "mimetype": "text/x-python",
   "name": "python",
   "nbconvert_exporter": "python",
   "pygments_lexer": "ipython3",
   "version": "3.8.10"
  }
 },
 "nbformat": 4,
 "nbformat_minor": 5
}
