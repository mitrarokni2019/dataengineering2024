{
 "cells": [
  {
   "cell_type": "code",
   "execution_count": 1,
   "id": "74377a7d-67e2-4072-b386-3a7c3cd8c740",
   "metadata": {},
   "outputs": [
    {
     "name": "stderr",
     "output_type": "stream",
     "text": [
      "Setting default log level to \"WARN\".\n",
      "To adjust logging level use sc.setLogLevel(newLevel). For SparkR, use setLogLevel(newLevel).\n",
      "24/02/21 22:05:21 WARN NativeCodeLoader: Unable to load native-hadoop library for your platform... using builtin-java classes where applicable\n"
     ]
    }
   ],
   "source": [
    "from pyspark.sql import SparkSession\n",
    "from pyspark import SparkContext\n",
    "from pyspark.sql.types import StringType\n",
    "from pyspark.streaming import StreamingContext\n",
    "from pyspark.sql.functions import col, max\n",
    "#from pyspark.sql.functions import max\n",
    "from pyspark.sql.functions import udf\n",
    "#from pyspark.sql.functions import col\n",
    "\n",
    "\n",
    "spark_session = SparkSession\\\n",
    "        .builder\\\n",
    "        .master(\"spark://192.168.2.250:7077\") \\\n",
    "        .appName(\"MitraRokni_Section_B\")\\\n",
    "        .config(\"spark.dynamicAllocation.enabled\", False)\\\n",
    "        .config(\"spark.cores.max\", 4)\\\n",
    "        .config(\"spark.dynamicAllocation.shuffleTracking.enabled\",True)\\\n",
    "        .config(\"spark.shuffle.service.enabled\", False)\\\n",
    "        .config(\"spark.dynamicAllocation.executorIdleTimeout\",\"30s\")\\\n",
    "        .config(\"spark.executor.cores\",4)\\\n",
    "        .config(\"spark.cores.min\", 1)\\\n",
    "        .config(\"spark.driver.port\",9999)\\\n",
    "        .config(\"spark.blockManager.port\",10005)\\\n",
    "        .getOrCreate()\n",
    "# Old API (RDD)\n",
    "spark_context = spark_session.sparkContext\n",
    "spark_context.setLogLevel(\"ERROR\")"
   ]
  },
  {
   "cell_type": "code",
   "execution_count": 2,
   "id": "242a4b31-335a-4fc2-b31b-281f432c697c",
   "metadata": {},
   "outputs": [
    {
     "name": "stderr",
     "output_type": "stream",
     "text": [
      "                                                                                \r"
     ]
    }
   ],
   "source": [
    "# 1 loead the dataset\n",
    "data_frame = spark_session.read\\\n",
    "    .option(\"header\", \"true\")\\\n",
    "    .csv('hdfs://192.168.2.250:9000/parking-citations.csv')\\\n",
    "    .cache()"
   ]
  },
  {
   "cell_type": "code",
   "execution_count": 3,
   "id": "2b181562-a830-4b30-bbd1-2a9965d0d6e0",
   "metadata": {},
   "outputs": [],
   "source": [
    "df= data_frame"
   ]
  },
  {
   "cell_type": "code",
   "execution_count": 4,
   "id": "224ae457-7f95-402b-a38a-b7d30bdc99d6",
   "metadata": {},
   "outputs": [
    {
     "name": "stderr",
     "output_type": "stream",
     "text": [
      "[Stage 1:=====================================================>   (15 + 1) / 16]\r"
     ]
    },
    {
     "name": "stdout",
     "output_type": "stream",
     "text": [
      "+-------------+--------------------+----------+--------+-----------+--------------+-----------------+----+----+----------+-----+--------------------+-----+------+--------------+---------------------+-----------+---------+---------+------------------+-----------------+----------------------+\n",
      "|Ticket number|          Issue Date|Issue time|Meter Id|Marked Time|RP State Plate|Plate Expiry Date| VIN|Make|Body Style|Color|            Location|Route|Agency|Violation code|Violation Description|Fine amount| Latitude|Longitude|Agency Description|Color Description|Body Style Description|\n",
      "+-------------+--------------------+----------+--------+-----------+--------------+-----------------+----+----+----------+-----+--------------------+-----+------+--------------+---------------------+-----------+---------+---------+------------------+-----------------+----------------------+\n",
      "|   1103341116|2015-12-21T00:00:...|      1251|    NULL|       NULL|            CA|           200304|NULL|HOND|        PA|   GY|     13147 WELBY WAY|01521|     1|        4000A1|   NO EVIDENCE OF REG|         50|    99999|    99999|              NULL|             NULL|                  NULL|\n",
      "|   1103700150|2015-12-21T00:00:...|      1435|    NULL|       NULL|            CA|           201512|NULL| GMC|        VN|   WH|       525 S MAIN ST| 1C51|     1|        4000A1|   NO EVIDENCE OF REG|         50|    99999|    99999|              NULL|             NULL|                  NULL|\n",
      "|   1104803000|2015-12-21T00:00:...|      2055|    NULL|       NULL|            CA|           201503|NULL|NISS|        PA|   BK|       200 WORLD WAY|  2R2|     2|          8939|           WHITE CURB|         58|6439997.9|1802686.4|              NULL|             NULL|                  NULL|\n",
      "|   1104820732|2015-12-26T00:00:...|      1515|    NULL|       NULL|            CA|             NULL|NULL|ACUR|        PA|   WH|       100 WORLD WAY| 2F11|     2|           000|               17104h|       NULL|6440041.1|1802686.2|              NULL|             NULL|                  NULL|\n",
      "|   1105461453|2015-09-15T00:00:...|       115|    NULL|       NULL|            CA|           200316|NULL|CHEV|        PA|   BK|  GEORGIA ST/OLYMPIC|1FB70|     1|         8069A| NO STOPPING/STANDING|         93|    99999|    99999|              NULL|             NULL|                  NULL|\n",
      "|   1106226590|2015-09-15T00:00:...|        19|    NULL|       NULL|            CA|           201507|NULL|CHEV|        VN|   GY|  SAN PEDRO S/O BOYD|1A35W|     1|        4000A1|   NO EVIDENCE OF REG|         50|    99999|    99999|              NULL|             NULL|                  NULL|\n",
      "|   1106500452|2015-12-17T00:00:...|      1710|    NULL|       NULL|            CA|           201605|NULL|MAZD|        PA|   BL|     SUNSET/ALVARADO|00217|     1|          8070| PARK IN GRID LOCK ZN|        163|    99999|    99999|              NULL|             NULL|                  NULL|\n",
      "|   1106500463|2015-12-17T00:00:...|      1710|    NULL|       NULL|            CA|           201602|NULL|TOYO|        PA|   BK|     SUNSET/ALVARADO|00217|     1|          8070| PARK IN GRID LOCK ZN|        163|    99999|    99999|              NULL|             NULL|                  NULL|\n",
      "|   1106506402|2015-12-22T00:00:...|       945|    NULL|       NULL|            CA|           201605|NULL|CHEV|        PA|   BR|      721 S WESTLAKE| 2A75|     1|        8069AA|     NO STOP/STAND AM|         93|    99999|    99999|              NULL|             NULL|                  NULL|\n",
      "|   1106506413|2015-12-22T00:00:...|      1100|    NULL|       NULL|            CA|           201701|NULL|NISS|        PA|   SI|     1159 HUNTLEY DR| 2A75|     1|        8069AA|     NO STOP/STAND AM|         93|    99999|    99999|              NULL|             NULL|                  NULL|\n",
      "|   1106506424|2015-12-22T00:00:...|      1100|    NULL|       NULL|            CA|           201511|NULL|FORD|        TR|   WH|     1159 HUNTLEY DR| 2A75|     1|        8069AA|     NO STOP/STAND AM|         93|    99999|    99999|              NULL|             NULL|                  NULL|\n",
      "|   1106506435|2015-12-22T00:00:...|      1105|    NULL|       NULL|            CA|           201701|NULL|CHRY|        PA|   GO|     1159 HUNTLEY DR| 2A75|     1|        8069AA|     NO STOP/STAND AM|         93|    99999|    99999|              NULL|             NULL|                  NULL|\n",
      "|   1106506446|2015-12-22T00:00:...|      1110|    NULL|       NULL|            CA|           201511|NULL| BMW|        PA|   BK|      1200 W MIRAMAR| 2A75|     1|        4000A1|   NO EVIDENCE OF REG|         50|    99999|    99999|              NULL|             NULL|                  NULL|\n",
      "|   1106549754|2015-12-15T00:00:...|       825|    NULL|       NULL|            CA|           201607|NULL|PTRB|        TR|   BK|           4TH/STATE| CM96|     1|         8069A| NO STOPPING/STANDING|         93|    99999|    99999|              NULL|             NULL|                  NULL|\n",
      "|   1107179581|2015-12-27T00:00:...|      1055|    NULL|       NULL|            CA|           201605|NULL|TOYO|        PA|   BK|3100 N HOLLYRIDGE DR| NULL|    54|         8058L|         PREF PARKING|         68|    99999|    99999|              NULL|             NULL|                  NULL|\n",
      "|   1107179592|2015-12-27T00:00:...|      1200|    NULL|       NULL|            CA|           201602|NULL|MBNZ|        PA|   BK|   3115 N BERENDO DR| NULL|    54|         8058L|         PREF PARKING|         68|    99999|    99999|              NULL|             NULL|                  NULL|\n",
      "|   1107179603|2015-12-27T00:00:...|      1400|    NULL|       NULL|            CA|           201611|NULL|NISS|        PA|   WH| 3100 N BEACHWOOD DR| NULL|    54|         8058L|         PREF PARKING|         68|    99999|    99999|              NULL|             NULL|                  NULL|\n",
      "|   1107539823|2015-09-16T00:00:...|      2120|    NULL|       NULL|            CA|           201502|NULL|NISS|        PA| NULL|      BLAINE/11TH PL|1FB95|     1|        4000A1|   NO EVIDENCE OF REG|         50|    99999|    99999|              NULL|             NULL|                  NULL|\n",
      "|   1107539834|2015-09-16T00:00:...|      1045|    NULL|       NULL|            CA|             NULL|NULL|CHEV|        PA|   BK|  1246 S FIGUEROA ST| 1L20|     1|        8069AP|     NO STOP/STAND PM|         93|    99999|    99999|              NULL|             NULL|                  NULL|\n",
      "|   1107780811|2015-12-22T00:00:...|      1102|    NULL|       NULL|            CA|           201606|NULL|HOND|        PA|   BK|       PLATA/RAMPART|  2A1|     1|         8069B|           NO PARKING|         73|    99999|    99999|              NULL|             NULL|                  NULL|\n",
      "+-------------+--------------------+----------+--------+-----------+--------------+-----------------+----+----+----------+-----+--------------------+-----+------+--------------+---------------------+-----------+---------+---------+------------------+-----------------+----------------------+\n",
      "only showing top 20 rows\n",
      "\n"
     ]
    },
    {
     "name": "stderr",
     "output_type": "stream",
     "text": [
      "                                                                                \r"
     ]
    }
   ],
   "source": [
    "# B.1 call show\n",
    "data_frame.show()"
   ]
  },
  {
   "cell_type": "code",
   "execution_count": 5,
   "id": "3f848a82-271a-4953-b93c-ddfa85c8a079",
   "metadata": {},
   "outputs": [
    {
     "name": "stdout",
     "output_type": "stream",
     "text": [
      "['Ticket number', 'Issue Date', 'Issue time', 'Meter Id', 'Marked Time', 'RP State Plate', 'Plate Expiry Date', 'VIN', 'Make', 'Body Style', 'Color', 'Location', 'Route', 'Agency', 'Violation code', 'Violation Description', 'Fine amount', 'Latitude', 'Longitude', 'Agency Description', 'Color Description', 'Body Style Description']\n"
     ]
    }
   ],
   "source": [
    "# This part was not required in assignment!\n",
    "# Assuming 'df' is your PySpark DataFrame\n",
    "column_names = data_frame.columns\n",
    "print(column_names)\n"
   ]
  },
  {
   "cell_type": "code",
   "execution_count": 6,
   "id": "3ba64d80-beda-4542-b632-1f22e763df5b",
   "metadata": {},
   "outputs": [
    {
     "name": "stdout",
     "output_type": "stream",
     "text": [
      "root\n",
      " |-- Ticket number: string (nullable = true)\n",
      " |-- Issue Date: string (nullable = true)\n",
      " |-- Issue time: string (nullable = true)\n",
      " |-- Meter Id: string (nullable = true)\n",
      " |-- Marked Time: string (nullable = true)\n",
      " |-- RP State Plate: string (nullable = true)\n",
      " |-- Plate Expiry Date: string (nullable = true)\n",
      " |-- VIN: string (nullable = true)\n",
      " |-- Make: string (nullable = true)\n",
      " |-- Body Style: string (nullable = true)\n",
      " |-- Color: string (nullable = true)\n",
      " |-- Location: string (nullable = true)\n",
      " |-- Route: string (nullable = true)\n",
      " |-- Agency: string (nullable = true)\n",
      " |-- Violation code: string (nullable = true)\n",
      " |-- Violation Description: string (nullable = true)\n",
      " |-- Fine amount: string (nullable = true)\n",
      " |-- Latitude: string (nullable = true)\n",
      " |-- Longitude: string (nullable = true)\n",
      " |-- Agency Description: string (nullable = true)\n",
      " |-- Color Description: string (nullable = true)\n",
      " |-- Body Style Description: string (nullable = true)\n",
      "\n"
     ]
    }
   ],
   "source": [
    "# B.2 the schema:\n",
    "data_frame.printSchema()"
   ]
  },
  {
   "cell_type": "code",
   "execution_count": 7,
   "id": "9420c133-579d-49e9-bf5f-0af0e4f5451d",
   "metadata": {},
   "outputs": [
    {
     "name": "stderr",
     "output_type": "stream",
     "text": [
      "                                                                                \r"
     ]
    },
    {
     "data": {
      "text/plain": [
       "13077724"
      ]
     },
     "execution_count": 7,
     "metadata": {},
     "output_type": "execute_result"
    }
   ],
   "source": [
    "# B.3 Count the number of rows \n",
    "data_frame.count()"
   ]
  },
  {
   "cell_type": "code",
   "execution_count": 8,
   "id": "5dda1ac8-99c9-4cca-9bf2-f540a4877c80",
   "metadata": {},
   "outputs": [
    {
     "data": {
      "text/plain": [
       "16"
      ]
     },
     "execution_count": 8,
     "metadata": {},
     "output_type": "execute_result"
    }
   ],
   "source": [
    "# B.4 the numbers of partitions: \n",
    "data_frame.rdd.getNumPartitions()"
   ]
  },
  {
   "cell_type": "code",
   "execution_count": 9,
   "id": "b113dfcd-b3a2-4e78-96a1-520309d4377e",
   "metadata": {},
   "outputs": [
    {
     "name": "stdout",
     "output_type": "stream",
     "text": [
      "+-------------+--------------------+----------+--------+-----------+--------------+-----------------+----+----------+-----+--------------------+-----+------+--------------+---------------------+-----------+------------------+-----------------+----------------------+\n",
      "|Ticket number|          Issue Date|Issue time|Meter Id|Marked Time|RP State Plate|Plate Expiry Date|Make|Body Style|Color|            Location|Route|Agency|Violation code|Violation Description|Fine amount|Agency Description|Color Description|Body Style Description|\n",
      "+-------------+--------------------+----------+--------+-----------+--------------+-----------------+----+----------+-----+--------------------+-----+------+--------------+---------------------+-----------+------------------+-----------------+----------------------+\n",
      "|   1103341116|2015-12-21T00:00:...|      1251|    NULL|       NULL|            CA|           200304|HOND|        PA|   GY|     13147 WELBY WAY|01521|     1|        4000A1|   NO EVIDENCE OF REG|         50|              NULL|             NULL|                  NULL|\n",
      "|   1103700150|2015-12-21T00:00:...|      1435|    NULL|       NULL|            CA|           201512| GMC|        VN|   WH|       525 S MAIN ST| 1C51|     1|        4000A1|   NO EVIDENCE OF REG|         50|              NULL|             NULL|                  NULL|\n",
      "|   1104803000|2015-12-21T00:00:...|      2055|    NULL|       NULL|            CA|           201503|NISS|        PA|   BK|       200 WORLD WAY|  2R2|     2|          8939|           WHITE CURB|         58|              NULL|             NULL|                  NULL|\n",
      "|   1104820732|2015-12-26T00:00:...|      1515|    NULL|       NULL|            CA|             NULL|ACUR|        PA|   WH|       100 WORLD WAY| 2F11|     2|           000|               17104h|       NULL|              NULL|             NULL|                  NULL|\n",
      "|   1105461453|2015-09-15T00:00:...|       115|    NULL|       NULL|            CA|           200316|CHEV|        PA|   BK|  GEORGIA ST/OLYMPIC|1FB70|     1|         8069A| NO STOPPING/STANDING|         93|              NULL|             NULL|                  NULL|\n",
      "|   1106226590|2015-09-15T00:00:...|        19|    NULL|       NULL|            CA|           201507|CHEV|        VN|   GY|  SAN PEDRO S/O BOYD|1A35W|     1|        4000A1|   NO EVIDENCE OF REG|         50|              NULL|             NULL|                  NULL|\n",
      "|   1106500452|2015-12-17T00:00:...|      1710|    NULL|       NULL|            CA|           201605|MAZD|        PA|   BL|     SUNSET/ALVARADO|00217|     1|          8070| PARK IN GRID LOCK ZN|        163|              NULL|             NULL|                  NULL|\n",
      "|   1106500463|2015-12-17T00:00:...|      1710|    NULL|       NULL|            CA|           201602|TOYO|        PA|   BK|     SUNSET/ALVARADO|00217|     1|          8070| PARK IN GRID LOCK ZN|        163|              NULL|             NULL|                  NULL|\n",
      "|   1106506402|2015-12-22T00:00:...|       945|    NULL|       NULL|            CA|           201605|CHEV|        PA|   BR|      721 S WESTLAKE| 2A75|     1|        8069AA|     NO STOP/STAND AM|         93|              NULL|             NULL|                  NULL|\n",
      "|   1106506413|2015-12-22T00:00:...|      1100|    NULL|       NULL|            CA|           201701|NISS|        PA|   SI|     1159 HUNTLEY DR| 2A75|     1|        8069AA|     NO STOP/STAND AM|         93|              NULL|             NULL|                  NULL|\n",
      "|   1106506424|2015-12-22T00:00:...|      1100|    NULL|       NULL|            CA|           201511|FORD|        TR|   WH|     1159 HUNTLEY DR| 2A75|     1|        8069AA|     NO STOP/STAND AM|         93|              NULL|             NULL|                  NULL|\n",
      "|   1106506435|2015-12-22T00:00:...|      1105|    NULL|       NULL|            CA|           201701|CHRY|        PA|   GO|     1159 HUNTLEY DR| 2A75|     1|        8069AA|     NO STOP/STAND AM|         93|              NULL|             NULL|                  NULL|\n",
      "|   1106506446|2015-12-22T00:00:...|      1110|    NULL|       NULL|            CA|           201511| BMW|        PA|   BK|      1200 W MIRAMAR| 2A75|     1|        4000A1|   NO EVIDENCE OF REG|         50|              NULL|             NULL|                  NULL|\n",
      "|   1106549754|2015-12-15T00:00:...|       825|    NULL|       NULL|            CA|           201607|PTRB|        TR|   BK|           4TH/STATE| CM96|     1|         8069A| NO STOPPING/STANDING|         93|              NULL|             NULL|                  NULL|\n",
      "|   1107179581|2015-12-27T00:00:...|      1055|    NULL|       NULL|            CA|           201605|TOYO|        PA|   BK|3100 N HOLLYRIDGE DR| NULL|    54|         8058L|         PREF PARKING|         68|              NULL|             NULL|                  NULL|\n",
      "|   1107179592|2015-12-27T00:00:...|      1200|    NULL|       NULL|            CA|           201602|MBNZ|        PA|   BK|   3115 N BERENDO DR| NULL|    54|         8058L|         PREF PARKING|         68|              NULL|             NULL|                  NULL|\n",
      "|   1107179603|2015-12-27T00:00:...|      1400|    NULL|       NULL|            CA|           201611|NISS|        PA|   WH| 3100 N BEACHWOOD DR| NULL|    54|         8058L|         PREF PARKING|         68|              NULL|             NULL|                  NULL|\n",
      "|   1107539823|2015-09-16T00:00:...|      2120|    NULL|       NULL|            CA|           201502|NISS|        PA| NULL|      BLAINE/11TH PL|1FB95|     1|        4000A1|   NO EVIDENCE OF REG|         50|              NULL|             NULL|                  NULL|\n",
      "|   1107539834|2015-09-16T00:00:...|      1045|    NULL|       NULL|            CA|             NULL|CHEV|        PA|   BK|  1246 S FIGUEROA ST| 1L20|     1|        8069AP|     NO STOP/STAND PM|         93|              NULL|             NULL|                  NULL|\n",
      "|   1107780811|2015-12-22T00:00:...|      1102|    NULL|       NULL|            CA|           201606|HOND|        PA|   BK|       PLATA/RAMPART|  2A1|     1|         8069B|           NO PARKING|         73|              NULL|             NULL|                  NULL|\n",
      "+-------------+--------------------+----------+--------+-----------+--------------+-----------------+----+----------+-----+--------------------+-----+------+--------------+---------------------+-----------+------------------+-----------------+----------------------+\n",
      "only showing top 20 rows\n",
      "\n"
     ]
    }
   ],
   "source": [
    "# B.5 Drop the columns VIN, Latitude and Longitude\n",
    "columns_to_drop = ['VIN', 'Latitude','Longitude']\n",
    "data_frame = data_frame.drop(*columns_to_drop)\n",
    "data_frame.show()"
   ]
  },
  {
   "cell_type": "code",
   "execution_count": 10,
   "id": "80b6d7c0-3b83-470c-8c1c-0887875cd8d1",
   "metadata": {},
   "outputs": [
    {
     "name": "stdout",
     "output_type": "stream",
     "text": [
      "['Ticket number', 'Issue Date', 'Issue time', 'Meter Id', 'Marked Time', 'RP State Plate', 'Plate Expiry Date', 'Make', 'Body Style', 'Color', 'Location', 'Route', 'Agency', 'Violation code', 'Violation Description', 'FineAmount', 'Agency Description', 'Color Description', 'Body Style Description']\n",
      ">>>\n"
     ]
    },
    {
     "name": "stderr",
     "output_type": "stream",
     "text": [
      "[Stage 7:=======================================>                 (11 + 4) / 16]\r"
     ]
    },
    {
     "name": "stdout",
     "output_type": "stream",
     "text": [
      "The maximum amount of fine is: 1100.0\n"
     ]
    },
    {
     "name": "stderr",
     "output_type": "stream",
     "text": [
      "                                                                                \r"
     ]
    }
   ],
   "source": [
    "# B.6 Find the maximum fine amount: \n",
    "# I am changing the name of column 'Fine amount'  to 'FineAmount' because of the spece between the words \n",
    "data_frame= data_frame.withColumnRenamed('Fine amount', 'FineAmount')\n",
    "column_names2 = data_frame.columns\n",
    "print(column_names2)\n",
    "\n",
    "# Counting null values in FineAmount\n",
    "#null_count = data_frame.filter(col(\"FineAmount\").isNull()).count() # Counting null values in FineAmount\n",
    "#print(f\"Number of null values in 'FineAmount': {null_count}\") # Prininting the numbre of null inputs\n",
    "\n",
    "# Convert 'fine amount' to float\n",
    "data_frame2= data_frame\n",
    "data_frame = data_frame.withColumn(\"FineAmount\", col(\"FineAmount\").cast(\"float\"))\n",
    "\n",
    "print(\">>>\")\n",
    "# Perform the aggregation and collect the result to get the maximum amount of fine\n",
    "max_fine_result = data_frame.agg({\"FineAmount\": \"max\"}).collect()\n",
    "max_Fine_amount = max_fine_result[0][\"max(FineAmount)\"]\n",
    "print(\"The maximum amount of fine is:\", max_Fine_amount)\n",
    "\n",
    "\n"
   ]
  },
  {
   "cell_type": "code",
   "execution_count": 11,
   "id": "9025ff73-5201-4d40-b89d-ef0803ff4074",
   "metadata": {},
   "outputs": [
    {
     "name": "stderr",
     "output_type": "stream",
     "text": [
      "[Stage 13:============================>                            (8 + 4) / 16]\r"
     ]
    },
    {
     "name": "stdout",
     "output_type": "stream",
     "text": [
      "Maximum Fine Amount: 1100.0\n",
      "Count of Fines with Maximum Amount: 626\n"
     ]
    },
    {
     "name": "stderr",
     "output_type": "stream",
     "text": [
      "                                                                                \r"
     ]
    }
   ],
   "source": [
    "# B.6 Second approach refrence help from AI\n",
    "\n",
    "data_frame2 = data_frame2.withColumn(\"FineAmount\", col(\"FineAmount\").cast(\"float\"))\n",
    "# Find the maximum fine amount\n",
    "max_fine_amount_result = data_frame2.agg(max(\"FineAmount\").alias(\"MaxFineAmount\")).collect()\n",
    "max_fine_amount = max_fine_amount_result[0][\"MaxFineAmount\"]\n",
    "\n",
    "# Count how many fines have the maximum fine amount\n",
    "count_max_fine = data_frame2.filter(col(\"FineAmount\") == max_fine_amount).count()\n",
    "\n",
    "print(f\"Maximum Fine Amount: {max_fine_amount}\")\n",
    "print(f\"Count of Fines with Maximum Amount: {count_max_fine}\")\n"
   ]
  },
  {
   "cell_type": "code",
   "execution_count": 12,
   "id": "06cdb126-388e-4e59-ab3d-39c8f3513c68",
   "metadata": {},
   "outputs": [
    {
     "name": "stderr",
     "output_type": "stream",
     "text": [
      "[Stage 16:==========================================>             (12 + 4) / 16]\r"
     ]
    },
    {
     "name": "stdout",
     "output_type": "stream",
     "text": [
      "+----+-------+\n",
      "|Make|  count|\n",
      "+----+-------+\n",
      "|TOYT|2150768|\n",
      "|HOND|1479996|\n",
      "|FORD|1116235|\n",
      "|NISS| 945133|\n",
      "|CHEV| 892676|\n",
      "| BMW| 603092|\n",
      "|MERZ| 543298|\n",
      "|VOLK| 432030|\n",
      "|HYUN| 404917|\n",
      "|DODG| 391686|\n",
      "|LEXS| 368420|\n",
      "| KIA| 328155|\n",
      "|JEEP| 316300|\n",
      "|AUDI| 255395|\n",
      "|MAZD| 242344|\n",
      "|OTHR| 205546|\n",
      "| GMC| 184889|\n",
      "|INFI| 174315|\n",
      "|CHRY| 159948|\n",
      "|SUBA| 154640|\n",
      "+----+-------+\n",
      "only showing top 20 rows\n",
      "\n"
     ]
    },
    {
     "name": "stderr",
     "output_type": "stream",
     "text": [
      "                                                                                \r"
     ]
    }
   ],
   "source": [
    "# B.7 Show the top 20 most frequent vehicle makes, and their frequencies.\n",
    "top_Freq_Vehicle = data_frame.groupby('Make').count() # Counting vehicles by groupby\n",
    "top_Freq_Vehicle.orderBy((\"count\"), ascending=False).show()  # Showing in Decrising Order"
   ]
  },
  {
   "cell_type": "code",
   "execution_count": 13,
   "id": "10075e8a-8ce4-449a-a667-2b960901f334",
   "metadata": {},
   "outputs": [
    {
     "name": "stderr",
     "output_type": "stream",
     "text": [
      "[Stage 19:>                                                         (0 + 1) / 1]\r"
     ]
    },
    {
     "name": "stdout",
     "output_type": "stream",
     "text": [
      "+-----+----------+\n",
      "|Color|Long_color|\n",
      "+-----+----------+\n",
      "|GY   |Gray      |\n",
      "|WH   |White     |\n",
      "|BK   |Black     |\n",
      "|WH   |White     |\n",
      "|BK   |Black     |\n",
      "|GY   |Gray      |\n",
      "|BL   |Blue      |\n",
      "|BK   |Black     |\n",
      "|BR   |Brown     |\n",
      "|SI   |Silver    |\n",
      "|WH   |White     |\n",
      "|GO   |Gold      |\n",
      "|BK   |Black     |\n",
      "|BK   |Black     |\n",
      "|BK   |Black     |\n",
      "|BK   |Black     |\n",
      "|WH   |White     |\n",
      "|NULL |NULL      |\n",
      "|BK   |Black     |\n",
      "|BK   |Black     |\n",
      "+-----+----------+\n",
      "only showing top 20 rows\n",
      "\n"
     ]
    },
    {
     "name": "stderr",
     "output_type": "stream",
     "text": [
      "                                                                                \r"
     ]
    }
   ],
   "source": [
    "# B.8\n",
    "# Define the COLORS mapping dictionary\n",
    "COLORS = {\n",
    "    'AL': 'Aluminum', 'AM': 'Amber', 'BG': 'Beige', 'BK': 'Black', 'BL': 'Blue', 'BN': 'Brown', 'BR': 'Brown', 'BZ': 'Bronze',\n",
    "    'CH': 'Charcoal', 'DK': 'Dark', 'GD': 'Gold', 'GO': 'Gold', 'GN': 'Green', 'GY': 'Gray', 'GT': 'Granite', 'IV': 'Ivory',\n",
    "    'LT': 'Light', 'OL': 'Olive', 'OR': 'Orange', 'MR': 'Maroon', 'PK': 'Pink', 'RD': 'Red', 'RE': 'Red', 'SI': 'Silver',\n",
    "    'SL': 'Silver', 'SM': 'Smoke', 'TN': 'Tan', 'VT': 'Violet', 'WT': 'White', 'WH': 'White', 'YL': 'Yellow', 'YE': 'Yellow',\n",
    "    'UN': 'Unknown'\n",
    "}\n",
    "\n",
    "# Define a function for mapping the colors\n",
    "def color_mapping(color):\n",
    "    if color in COLORS:\n",
    "        return COLORS[color]\n",
    "    return color\n",
    "\n",
    "udf_Mapping_Colors = udf(color_mapping, StringType())\n",
    "data_frame_FullAbbre = data_frame.withColumn(\"Long_color\", udf_Mapping_Colors(\"Color\"))\n",
    "data_frame_FullAbbre.select(\"Color\", \"Long_color\").show(truncate=False)\n"
   ]
  },
  {
   "cell_type": "code",
   "execution_count": 14,
   "id": "7bbbd60f-fdb2-45f7-baa8-8341597a20d4",
   "metadata": {},
   "outputs": [
    {
     "name": "stderr",
     "output_type": "stream",
     "text": [
      "                                                                                \r"
     ]
    },
    {
     "data": {
      "text/plain": [
       "[Row(Long_color='Gray', count=489697),\n",
       " Row(Long_color='White', count=434595),\n",
       " Row(Long_color='Black', count=353812),\n",
       " Row(Long_color='Silver', count=347894),\n",
       " Row(Long_color='Blue', count=180091)]"
      ]
     },
     "execution_count": 14,
     "metadata": {},
     "output_type": "execute_result"
    }
   ],
   "source": [
    "# B.9 Using this new column, what’s the most frequent colour value for Toyotas (TOYT)?\n",
    "\n",
    "toyotas = data_frame_FullAbbre.filter(data_frame_FullAbbre['Make'] == 'TOYT')  # Filter for Toyotas\n",
    "\n",
    "# Group by 'Long_color', count, and order by count in descending order\n",
    "most_frequent_color = toyotas.groupBy('Long_color')\\\n",
    "                             .count()\\\n",
    "                             .orderBy(\"count\",ascending=False )\\\n",
    "\n",
    "\n",
    "# Show the most frequent color\n",
    "most_frequent_color.take(5)\n"
   ]
  },
  {
   "cell_type": "markdown",
   "id": "a1913a36-77bb-4001-89a2-f5dfdefee342",
   "metadata": {},
   "source": [
    "Based on the table above the most frequent color is Gray!"
   ]
  },
  {
   "cell_type": "code",
   "execution_count": 15,
   "id": "acc94233-8dae-4a70-8ac1-f701152791e8",
   "metadata": {},
   "outputs": [],
   "source": [
    "spark_session.stop()"
   ]
  },
  {
   "cell_type": "code",
   "execution_count": null,
   "id": "ee6cef0f-d9e6-487d-8900-430feb776ce7",
   "metadata": {},
   "outputs": [],
   "source": []
  }
 ],
 "metadata": {
  "kernelspec": {
   "display_name": "Python 3 (ipykernel)",
   "language": "python",
   "name": "python3"
  },
  "language_info": {
   "codemirror_mode": {
    "name": "ipython",
    "version": 3
   },
   "file_extension": ".py",
   "mimetype": "text/x-python",
   "name": "python",
   "nbconvert_exporter": "python",
   "pygments_lexer": "ipython3",
   "version": "3.8.10"
  }
 },
 "nbformat": 4,
 "nbformat_minor": 5
}
